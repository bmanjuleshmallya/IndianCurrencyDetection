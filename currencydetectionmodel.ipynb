{
  "nbformat": 4,
  "nbformat_minor": 0,
  "metadata": {
    "colab": {
      "name": "currencydetectionmodel.ipynb",
      "provenance": [],
      "collapsed_sections": []
    },
    "kernelspec": {
      "display_name": "Python 3",
      "name": "python3"
    },
    "language_info": {
      "name": "python"
    }
  },
  "cells": [
    {
      "cell_type": "code",
      "metadata": {
        "colab": {
          "base_uri": "https://localhost:8080/"
        },
        "id": "9vw_7DyLb5b6",
        "outputId": "0ac442cc-04b7-4635-cce0-415721eb2d4a"
      },
      "source": [
        "from google.colab import drive\n",
        "drive.mount('/content/drive')"
      ],
      "execution_count": null,
      "outputs": [
        {
          "output_type": "stream",
          "text": [
            "Mounted at /content/drive\n"
          ],
          "name": "stdout"
        }
      ]
    },
    {
      "cell_type": "code",
      "metadata": {
        "colab": {
          "base_uri": "https://localhost:8080/"
        },
        "id": "yPGBlD9CcOoc",
        "outputId": "8c44cc39-9eea-4749-89e5-2004e4901149"
      },
      "source": [
        "from tensorflow.keras.layers import Input, Lambda, Dense, Flatten\n",
        "from tensorflow.keras.models import Model\n",
        "from tensorflow.keras.preprocessing import image\n",
        "from tensorflow.keras.preprocessing.image import ImageDataGenerator,load_img\n",
        "from tensorflow.keras.models import Sequential\n",
        "from tensorflow.keras.layers import MaxPooling2D\n",
        "from tensorflow.keras.layers import Conv2D\n",
        "\n",
        "import numpy as np\n",
        "from glob import glob\n",
        "\n",
        "\n",
        "# re-size all the images to this\n",
        "IMAGE_SIZE = [224, 224]\n",
        "\n",
        "train_path = '/content/drive/MyDrive/Projects/Currency Detection web app-ML/Indian currency dataset v1/training'\n",
        "valid_path = '/content/drive/MyDrive/Projects/Currency Detection web app-ML/Indian currency dataset v1/validation'\n",
        "\n",
        "# useful for getting number of output classes\n",
        "folders = glob('/content/drive/MyDrive/Projects/Currency Detection web app-ML/Indian currency dataset v1/training/*')\n",
        "\n",
        "print(folders)\n",
        "print(len(folders))"
      ],
      "execution_count": null,
      "outputs": [
        {
          "output_type": "stream",
          "text": [
            "['/content/drive/MyDrive/Projects/Currency Detection web app-ML/Indian currency dataset v1/training/500', '/content/drive/MyDrive/Projects/Currency Detection web app-ML/Indian currency dataset v1/training/Background', '/content/drive/MyDrive/Projects/Currency Detection web app-ML/Indian currency dataset v1/training/100', '/content/drive/MyDrive/Projects/Currency Detection web app-ML/Indian currency dataset v1/training/2000', '/content/drive/MyDrive/Projects/Currency Detection web app-ML/Indian currency dataset v1/training/200', '/content/drive/MyDrive/Projects/Currency Detection web app-ML/Indian currency dataset v1/training/20', '/content/drive/MyDrive/Projects/Currency Detection web app-ML/Indian currency dataset v1/training/50', '/content/drive/MyDrive/Projects/Currency Detection web app-ML/Indian currency dataset v1/training/10']\n",
            "8\n"
          ],
          "name": "stdout"
        }
      ]
    },
    {
      "cell_type": "code",
      "metadata": {
        "id": "77eTa45Feq-g"
      },
      "source": [
        "Classifier=Sequential()\n",
        "\n",
        "Classifier.add(Conv2D(32,(3,3), input_shape=(224,224,3), activation='relu'))\n",
        "Classifier.add(MaxPooling2D(pool_size=(2,2)))\n",
        "\n",
        "Classifier.add(Conv2D(32,(3,3),activation='relu'))\n",
        "Classifier.add(MaxPooling2D(pool_size=(2,2)))\n",
        "\n",
        "Classifier.add(Flatten())\n",
        "\n",
        "Classifier.add(Dense(units = 128, activation = 'relu'))\n",
        "Classifier.add(Dense(units = 7, activation = 'softmax'))\n",
        "\n",
        "\n",
        "Classifier.compile(\n",
        "  loss='categorical_crossentropy',\n",
        "  optimizer='adam',\n",
        "  metrics=['accuracy']\n",
        ")"
      ],
      "execution_count": null,
      "outputs": []
    },
    {
      "cell_type": "code",
      "metadata": {
        "colab": {
          "base_uri": "https://localhost:8080/"
        },
        "id": "W0TUuY4afva7",
        "outputId": "22a467b4-1cad-47d8-f9c7-10f9eecffc70"
      },
      "source": [
        "# Use the Image Data Generator to import the images from the dataset\n",
        "from tensorflow.keras.preprocessing.image import ImageDataGenerator\n",
        "\n",
        "train_datagen = ImageDataGenerator(rescale = 1./255,\n",
        "                                   height_shift_range=0.2,\n",
        "                                   featurewise_center=True,\n",
        "                                   rotation_range=0.4,\n",
        "                                   horizontal_flip = True)\n",
        "\n",
        "test_datagen = ImageDataGenerator(rescale = 1./255,)\n",
        "\n",
        "# Make sure you provide the same target size as initialied for the image size\n",
        "training_set = train_datagen.flow_from_directory(\n",
        "    '/content/drive/MyDrive/Projects/Currency Detection web app-ML/Indian currency dataset v1/training',\n",
        "                                                 target_size = (224, 224),\n",
        "                                                 batch_size = 32,\n",
        "                                                 class_mode = 'categorical')\n",
        "\n",
        "test_set = test_datagen.flow_from_directory(\n",
        "    '/content/drive/MyDrive/Projects/Currency Detection web app-ML/Indian currency dataset v1/validation',\n",
        "                                            target_size = (224, 224),\n",
        "                                            batch_size = 32,\n",
        "                                            class_mode = 'categorical')\n",
        "\n"
      ],
      "execution_count": null,
      "outputs": [
        {
          "output_type": "stream",
          "text": [
            "Found 3566 images belonging to 8 classes.\n",
            "Found 345 images belonging to 8 classes.\n"
          ],
          "name": "stdout"
        }
      ]
    },
    {
      "cell_type": "markdown",
      "metadata": {
        "id": "cAmGFowcUMVG"
      },
      "source": [
        ""
      ]
    },
    {
      "cell_type": "code",
      "metadata": {
        "colab": {
          "base_uri": "https://localhost:8080/"
        },
        "id": "QFgmyHJGgyxp",
        "outputId": "f0ea7116-c21d-416f-f398-9470e979163a"
      },
      "source": [
        "# fit the model\n",
        "# Run the cell. It will take some time to execute\n",
        "r = Classifier.fit_generator(\n",
        "  training_set,\n",
        "  validation_data=test_set,\n",
        "  epochs=50,\n",
        "  steps_per_epoch=len(training_set),\n",
        "  validation_steps=len(test_set)\n",
        ")"
      ],
      "execution_count": null,
      "outputs": [
        {
          "output_type": "stream",
          "text": [
            "/usr/local/lib/python3.7/dist-packages/tensorflow/python/keras/engine/training.py:1844: UserWarning: `Model.fit_generator` is deprecated and will be removed in a future version. Please use `Model.fit`, which supports generators.\n",
            "  warnings.warn('`Model.fit_generator` is deprecated and '\n",
            "/usr/local/lib/python3.7/dist-packages/keras_preprocessing/image/image_data_generator.py:720: UserWarning: This ImageDataGenerator specifies `featurewise_center`, but it hasn't been fit on any training data. Fit it first by calling `.fit(numpy_data)`.\n",
            "  warnings.warn('This ImageDataGenerator specifies '\n"
          ],
          "name": "stderr"
        },
        {
          "output_type": "stream",
          "text": [
            "Epoch 1/50\n",
            "5/5 [==============================] - ETA: 0s - loss: 3.7765 - accuracy: 0.1301"
          ],
          "name": "stdout"
        },
        {
          "output_type": "stream",
          "text": [
            "/usr/local/lib/python3.7/dist-packages/PIL/TiffImagePlugin.py:788: UserWarning: Corrupt EXIF data.  Expecting to read 4 bytes but only got 0. \n",
            "  warnings.warn(str(msg))\n"
          ],
          "name": "stderr"
        },
        {
          "output_type": "stream",
          "text": [
            "\b\b\b\b\b\b\b\b\b\b\b\b\b\b\b\b\b\b\b\b\b\b\b\b\b\b\b\b\b\b\b\b\b\b\b\b\b\b\b\b\b\b\b\b\b\b\b\b\b\b\b\b\b\b\b\b\b\b\b\b\b\b\b\b\b\b\b\b\b\b\b\b\b\b\b\b\b\b\b\b\r5/5 [==============================] - 57s 11s/step - loss: 3.7917 - accuracy: 0.1313 - val_loss: 1.9288 - val_accuracy: 0.1905\n",
            "Epoch 2/50\n",
            "5/5 [==============================] - 11s 2s/step - loss: 1.9023 - accuracy: 0.2027 - val_loss: 1.8853 - val_accuracy: 0.1429\n",
            "Epoch 3/50\n",
            "5/5 [==============================] - 11s 2s/step - loss: 1.8229 - accuracy: 0.2525 - val_loss: 1.7669 - val_accuracy: 0.2857\n",
            "Epoch 4/50\n",
            "5/5 [==============================] - 11s 2s/step - loss: 1.6718 - accuracy: 0.3809 - val_loss: 1.3924 - val_accuracy: 0.3095\n",
            "Epoch 5/50\n",
            "5/5 [==============================] - 11s 2s/step - loss: 1.3949 - accuracy: 0.3739 - val_loss: 1.2943 - val_accuracy: 0.4762\n",
            "Epoch 6/50\n",
            "5/5 [==============================] - 11s 2s/step - loss: 1.2257 - accuracy: 0.5511 - val_loss: 1.2506 - val_accuracy: 0.4048\n",
            "Epoch 7/50\n",
            "5/5 [==============================] - 11s 2s/step - loss: 1.0725 - accuracy: 0.5894 - val_loss: 1.2040 - val_accuracy: 0.4762\n",
            "Epoch 8/50\n",
            "5/5 [==============================] - 11s 2s/step - loss: 0.9451 - accuracy: 0.5899 - val_loss: 1.3028 - val_accuracy: 0.5000\n",
            "Epoch 9/50\n",
            "5/5 [==============================] - 11s 2s/step - loss: 0.7950 - accuracy: 0.7347 - val_loss: 1.2292 - val_accuracy: 0.5476\n",
            "Epoch 10/50\n",
            "5/5 [==============================] - 11s 2s/step - loss: 0.8011 - accuracy: 0.7046 - val_loss: 1.2297 - val_accuracy: 0.5000\n",
            "Epoch 11/50\n",
            "5/5 [==============================] - 11s 2s/step - loss: 0.7781 - accuracy: 0.7133 - val_loss: 1.0769 - val_accuracy: 0.6429\n",
            "Epoch 12/50\n",
            "5/5 [==============================] - 11s 2s/step - loss: 0.6517 - accuracy: 0.7857 - val_loss: 1.0056 - val_accuracy: 0.6429\n",
            "Epoch 13/50\n",
            "5/5 [==============================] - 11s 2s/step - loss: 0.6033 - accuracy: 0.7932 - val_loss: 0.9260 - val_accuracy: 0.6190\n",
            "Epoch 14/50\n",
            "5/5 [==============================] - 11s 2s/step - loss: 0.5598 - accuracy: 0.8060 - val_loss: 1.3026 - val_accuracy: 0.6190\n",
            "Epoch 15/50\n",
            "5/5 [==============================] - 11s 2s/step - loss: 0.4268 - accuracy: 0.8632 - val_loss: 1.0247 - val_accuracy: 0.6429\n",
            "Epoch 16/50\n",
            "5/5 [==============================] - 11s 2s/step - loss: 0.3822 - accuracy: 0.8527 - val_loss: 0.8307 - val_accuracy: 0.6667\n",
            "Epoch 17/50\n",
            "5/5 [==============================] - 11s 2s/step - loss: 0.3099 - accuracy: 0.8973 - val_loss: 0.9524 - val_accuracy: 0.6429\n",
            "Epoch 18/50\n",
            "5/5 [==============================] - 11s 2s/step - loss: 0.3385 - accuracy: 0.8994 - val_loss: 0.9121 - val_accuracy: 0.6429\n",
            "Epoch 19/50\n",
            "5/5 [==============================] - 11s 2s/step - loss: 0.2396 - accuracy: 0.9410 - val_loss: 0.8051 - val_accuracy: 0.7143\n",
            "Epoch 20/50\n",
            "5/5 [==============================] - 11s 2s/step - loss: 0.1810 - accuracy: 0.9553 - val_loss: 1.0625 - val_accuracy: 0.6190\n",
            "Epoch 21/50\n",
            "5/5 [==============================] - 11s 2s/step - loss: 0.1557 - accuracy: 0.9348 - val_loss: 1.5238 - val_accuracy: 0.5952\n",
            "Epoch 22/50\n",
            "5/5 [==============================] - 11s 2s/step - loss: 0.2028 - accuracy: 0.9089 - val_loss: 1.2239 - val_accuracy: 0.6667\n",
            "Epoch 23/50\n",
            "5/5 [==============================] - 11s 2s/step - loss: 0.1419 - accuracy: 0.9752 - val_loss: 1.4355 - val_accuracy: 0.6429\n",
            "Epoch 24/50\n",
            "5/5 [==============================] - 11s 2s/step - loss: 0.2344 - accuracy: 0.9563 - val_loss: 0.8191 - val_accuracy: 0.7143\n",
            "Epoch 25/50\n",
            "5/5 [==============================] - 11s 2s/step - loss: 0.2230 - accuracy: 0.9103 - val_loss: 0.8053 - val_accuracy: 0.6905\n",
            "Epoch 26/50\n",
            "5/5 [==============================] - 11s 2s/step - loss: 0.1975 - accuracy: 0.9545 - val_loss: 1.2790 - val_accuracy: 0.7143\n",
            "Epoch 27/50\n",
            "5/5 [==============================] - 11s 2s/step - loss: 0.1325 - accuracy: 0.9656 - val_loss: 0.8572 - val_accuracy: 0.7143\n",
            "Epoch 28/50\n",
            "5/5 [==============================] - 11s 2s/step - loss: 0.1521 - accuracy: 0.9477 - val_loss: 1.1714 - val_accuracy: 0.6905\n",
            "Epoch 29/50\n",
            "5/5 [==============================] - 11s 2s/step - loss: 0.1536 - accuracy: 0.9502 - val_loss: 1.3247 - val_accuracy: 0.6429\n",
            "Epoch 30/50\n",
            "5/5 [==============================] - 11s 2s/step - loss: 0.1121 - accuracy: 0.9702 - val_loss: 0.6981 - val_accuracy: 0.7381\n",
            "Epoch 31/50\n",
            "5/5 [==============================] - 11s 2s/step - loss: 0.0935 - accuracy: 0.9709 - val_loss: 1.4752 - val_accuracy: 0.6905\n",
            "Epoch 32/50\n",
            "5/5 [==============================] - 11s 2s/step - loss: 0.0840 - accuracy: 0.9641 - val_loss: 0.9246 - val_accuracy: 0.7619\n",
            "Epoch 33/50\n",
            "5/5 [==============================] - 11s 2s/step - loss: 0.0644 - accuracy: 0.9805 - val_loss: 1.2485 - val_accuracy: 0.7381\n",
            "Epoch 34/50\n",
            "5/5 [==============================] - 11s 2s/step - loss: 0.1498 - accuracy: 0.9424 - val_loss: 1.3325 - val_accuracy: 0.7619\n",
            "Epoch 35/50\n",
            "5/5 [==============================] - 11s 2s/step - loss: 0.0586 - accuracy: 0.9946 - val_loss: 1.1269 - val_accuracy: 0.7381\n",
            "Epoch 36/50\n",
            "5/5 [==============================] - 11s 2s/step - loss: 0.0495 - accuracy: 1.0000 - val_loss: 1.4826 - val_accuracy: 0.7143\n",
            "Epoch 37/50\n",
            "5/5 [==============================] - 11s 2s/step - loss: 0.0683 - accuracy: 0.9884 - val_loss: 1.1802 - val_accuracy: 0.7619\n",
            "Epoch 38/50\n",
            "5/5 [==============================] - 11s 2s/step - loss: 0.0541 - accuracy: 0.9848 - val_loss: 1.0769 - val_accuracy: 0.7857\n",
            "Epoch 39/50\n",
            "5/5 [==============================] - 11s 2s/step - loss: 0.0467 - accuracy: 0.9833 - val_loss: 1.2091 - val_accuracy: 0.7619\n",
            "Epoch 40/50\n",
            "5/5 [==============================] - 11s 2s/step - loss: 0.0912 - accuracy: 0.9868 - val_loss: 0.9903 - val_accuracy: 0.8095\n",
            "Epoch 41/50\n",
            "5/5 [==============================] - 11s 2s/step - loss: 0.0774 - accuracy: 0.9618 - val_loss: 1.3525 - val_accuracy: 0.7857\n",
            "Epoch 42/50\n",
            "5/5 [==============================] - 11s 2s/step - loss: 0.0564 - accuracy: 0.9896 - val_loss: 1.0528 - val_accuracy: 0.7619\n",
            "Epoch 43/50\n",
            "5/5 [==============================] - 11s 2s/step - loss: 0.0473 - accuracy: 0.9946 - val_loss: 1.7076 - val_accuracy: 0.7143\n",
            "Epoch 44/50\n",
            "5/5 [==============================] - 11s 2s/step - loss: 0.2370 - accuracy: 0.9141 - val_loss: 1.0478 - val_accuracy: 0.7381\n",
            "Epoch 45/50\n",
            "5/5 [==============================] - 11s 2s/step - loss: 0.0793 - accuracy: 0.9751 - val_loss: 1.2329 - val_accuracy: 0.6905\n",
            "Epoch 46/50\n",
            "5/5 [==============================] - 11s 2s/step - loss: 0.0720 - accuracy: 0.9921 - val_loss: 0.7566 - val_accuracy: 0.7857\n",
            "Epoch 47/50\n",
            "5/5 [==============================] - 11s 2s/step - loss: 0.2524 - accuracy: 0.9286 - val_loss: 1.7113 - val_accuracy: 0.7143\n",
            "Epoch 48/50\n",
            "5/5 [==============================] - 11s 2s/step - loss: 0.1102 - accuracy: 0.9737 - val_loss: 0.8761 - val_accuracy: 0.7857\n",
            "Epoch 49/50\n",
            "5/5 [==============================] - 11s 2s/step - loss: 0.0775 - accuracy: 0.9788 - val_loss: 1.3289 - val_accuracy: 0.6905\n",
            "Epoch 50/50\n",
            "5/5 [==============================] - 11s 2s/step - loss: 0.0391 - accuracy: 0.9943 - val_loss: 1.1214 - val_accuracy: 0.7619\n"
          ],
          "name": "stdout"
        }
      ]
    },
    {
      "cell_type": "code",
      "metadata": {
        "colab": {
          "base_uri": "https://localhost:8080/"
        },
        "id": "pMR_Tjl3hFRW",
        "outputId": "8d0dcf21-2176-4f4f-92b6-2ee6a744feb9"
      },
      "source": [
        "print(r.history)"
      ],
      "execution_count": null,
      "outputs": [
        {
          "output_type": "stream",
          "text": [
            "{'loss': [3.8678839206695557, 1.885772466659546, 1.8123691082000732, 1.607871413230896, 1.4475904703140259, 1.1797082424163818, 0.989930272102356, 0.9329402446746826, 0.7995019555091858, 0.7467246651649475, 0.7941204309463501, 0.6721808910369873, 0.5957624912261963, 0.560806155204773, 0.41672125458717346, 0.36192601919174194, 0.34081631898880005, 0.3150574266910553, 0.27519065141677856, 0.2108863890171051, 0.18906880915164948, 0.23788975179195404, 0.21415944397449493, 0.2274172455072403, 0.23491595685482025, 0.19859854876995087, 0.12378738820552826, 0.17340101301670074, 0.15417927503585815, 0.08562009781599045, 0.08359422534704208, 0.07844945788383484, 0.07483746111392975, 0.11795061081647873, 0.05372616648674011, 0.04533151909708977, 0.07677464932203293, 0.05658705532550812, 0.04665545001626015, 0.06125675141811371, 0.07027868926525116, 0.05843862518668175, 0.055824123322963715, 0.18954187631607056, 0.11432261019945145, 0.07384450733661652, 0.16726376116275787, 0.1278482973575592, 0.06190802529454231, 0.04806582257151604], 'accuracy': [0.13725490868091583, 0.18300653994083405, 0.24836601316928864, 0.38562092185020447, 0.3464052379131317, 0.5686274766921997, 0.6274510025978088, 0.5882353186607361, 0.7516340017318726, 0.7385621070861816, 0.7124183177947998, 0.758169949054718, 0.7908496856689453, 0.8300653696060181, 0.8627451062202454, 0.8562091588973999, 0.8888888955116272, 0.9019607901573181, 0.9084967374801636, 0.9346405267715454, 0.9215686321258545, 0.9019607901573181, 0.9411764740943909, 0.9411764740943909, 0.9281045794487, 0.9477124214172363, 0.9673202633857727, 0.9411764740943909, 0.9542483687400818, 0.9803921580314636, 0.9738562107086182, 0.9673202633857727, 0.9738562107086182, 0.9607843160629272, 0.9934640526771545, 1.0, 0.9869281053543091, 0.9803921580314636, 0.9869281053543091, 0.9934640526771545, 0.9673202633857727, 0.9869281053543091, 0.9934640526771545, 0.9346405267715454, 0.9607843160629272, 0.9934640526771545, 0.9607843160629272, 0.9673202633857727, 0.9803921580314636, 0.9869281053543091], 'val_loss': [1.928784728050232, 1.885251760482788, 1.7668911218643188, 1.3924283981323242, 1.2943227291107178, 1.2506182193756104, 1.2039724588394165, 1.302756667137146, 1.2292402982711792, 1.2297260761260986, 1.0768712759017944, 1.0055530071258545, 0.9259735941886902, 1.3025959730148315, 1.0247036218643188, 0.8307240605354309, 0.9523667693138123, 0.912075936794281, 0.8050727844238281, 1.0624773502349854, 1.5237541198730469, 1.2238553762435913, 1.4354794025421143, 0.8191169500350952, 0.8053280115127563, 1.2790018320083618, 0.8571900725364685, 1.1714229583740234, 1.3246574401855469, 0.6980835795402527, 1.4752366542816162, 0.9246315956115723, 1.248471736907959, 1.332507610321045, 1.126937747001648, 1.4826414585113525, 1.1802431344985962, 1.0768623352050781, 1.2091258764266968, 0.9902985095977783, 1.3524596691131592, 1.0528383255004883, 1.707594871520996, 1.0477573871612549, 1.2328636646270752, 0.7566328048706055, 1.7113322019577026, 0.8760554194450378, 1.328881859779358, 1.1214399337768555], 'val_accuracy': [0.190476194024086, 0.1428571492433548, 0.2857142984867096, 0.3095238208770752, 0.4761904776096344, 0.4047619104385376, 0.4761904776096344, 0.5, 0.5476190447807312, 0.5, 0.6428571343421936, 0.6428571343421936, 0.6190476417541504, 0.6190476417541504, 0.6428571343421936, 0.6666666865348816, 0.6428571343421936, 0.6428571343421936, 0.7142857313156128, 0.6190476417541504, 0.5952380895614624, 0.6666666865348816, 0.6428571343421936, 0.7142857313156128, 0.6904761791229248, 0.7142857313156128, 0.7142857313156128, 0.6904761791229248, 0.6428571343421936, 0.738095223903656, 0.6904761791229248, 0.761904776096344, 0.738095223903656, 0.761904776096344, 0.738095223903656, 0.7142857313156128, 0.761904776096344, 0.7857142686843872, 0.761904776096344, 0.8095238208770752, 0.7857142686843872, 0.761904776096344, 0.7142857313156128, 0.738095223903656, 0.6904761791229248, 0.7857142686843872, 0.7142857313156128, 0.7857142686843872, 0.6904761791229248, 0.761904776096344]}\n"
          ],
          "name": "stdout"
        }
      ]
    },
    {
      "cell_type": "code",
      "metadata": {
        "colab": {
          "base_uri": "https://localhost:8080/",
          "height": 531
        },
        "id": "Fz3phzQ0kG7A",
        "outputId": "bbc19f4e-abfc-4379-a2ea-a6a430873b74"
      },
      "source": [
        "import matplotlib.pyplot as plt\n",
        "# plot the loss\n",
        "plt.plot(r.history['loss'], label='train loss')\n",
        "plt.plot(r.history['val_loss'], label='val loss')\n",
        "plt.legend()\n",
        "plt.show()\n",
        "plt.savefig('LossVal_loss')\n",
        "\n",
        "# plot the accuracy\n",
        "plt.plot(r.history['accuracy'], label='train acc')\n",
        "plt.plot(r.history['val_accuracy'], label='val acc')\n",
        "plt.legend()\n",
        "plt.show()\n",
        "plt.savefig('AccVal_acc')"
      ],
      "execution_count": null,
      "outputs": [
        {
          "output_type": "display_data",
          "data": {
            "image/png": "[encoded data removed]",
            "text/plain": [
              "<Figure size 432x288 with 1 Axes>"
            ]
          },
          "metadata": {
            "tags": []
          }
        },
        {
          "output_type": "display_data",
          "data": {
            "image/png": "[encoded data removed]",
            "text/plain": [
              "<Figure size 432x288 with 1 Axes>"
            ]
          },
          "metadata": {
            "tags": []
          }
        },
        {
          "output_type": "display_data",
          "data": {
            "text/plain": [
              "<Figure size 432x288 with 0 Axes>"
            ]
          },
          "metadata": {
            "tags": []
          }
        }
      ]
    },
    {
      "cell_type": "code",
      "metadata": {
        "colab": {
          "base_uri": "https://localhost:8080/"
        },
        "id": "OVdKBVemlPVj",
        "outputId": "ca0b6885-e18e-41fa-954c-537defcf67ff"
      },
      "source": [
        "y_pred = Classifier.predict(test_set)\n",
        "\n",
        "print(y_pred)"
      ],
      "execution_count": null,
      "outputs": [
        {
          "output_type": "stream",
          "text": [
            "/usr/local/lib/python3.7/dist-packages/PIL/TiffImagePlugin.py:788: UserWarning: Corrupt EXIF data.  Expecting to read 4 bytes but only got 0. \n",
            "  warnings.warn(str(msg))\n"
          ],
          "name": "stderr"
        },
        {
          "output_type": "stream",
          "text": [
            "[[2.13111676e-02 7.18393471e-16 1.13257125e-12 2.05546136e-09\n",
            "  9.78688836e-01 1.41883509e-08 2.09603854e-08]\n",
            " [9.75507796e-01 1.25622523e-06 2.13738829e-02 1.74237630e-05\n",
            "  9.82588335e-06 3.07226717e-03 1.75359364e-05]\n",
            " [9.99999762e-01 7.92980895e-15 2.83920429e-07 2.36477837e-09\n",
            "  1.43748224e-09 8.02636890e-09 3.58040021e-11]\n",
            " [1.19300880e-01 3.09275894e-09 8.80699098e-01 1.68690466e-08\n",
            "  1.94616483e-08 2.06568318e-09 1.15378604e-08]\n",
            " [6.61601305e-01 4.65707744e-05 2.57609954e-05 3.38307261e-01\n",
            "  1.79910385e-05 3.93848225e-08 1.15212777e-06]\n",
            " [3.58220394e-04 1.85667740e-18 6.56439303e-09 7.98285524e-14\n",
            "  9.99641776e-01 2.48845389e-11 2.18809332e-10]\n",
            " [1.59494369e-03 2.52826838e-03 1.40890066e-07 1.01164263e-03\n",
            "  3.21361562e-03 7.31870830e-01 2.59780616e-01]\n",
            " [6.09810406e-04 3.92826700e-12 9.99390125e-01 8.59155767e-15\n",
            "  2.05658511e-11 1.30185127e-10 3.84812529e-11]\n",
            " [4.43344710e-12 1.29782213e-10 3.84286524e-15 3.21236046e-18\n",
            "  2.14035712e-12 4.51458826e-09 1.00000000e+00]\n",
            " [9.56170917e-01 1.33871794e-07 1.35844448e-06 1.52000822e-02\n",
            "  2.83453781e-02 9.48741581e-05 1.87285405e-04]\n",
            " [5.27250847e-07 9.99959826e-01 1.42029355e-09 4.60882939e-06\n",
            "  8.64006253e-08 1.75429032e-05 1.73837216e-05]\n",
            " [8.37462395e-02 1.01760645e-06 9.15749490e-01 9.89457405e-08\n",
            "  4.83260985e-04 4.53780194e-06 1.53061155e-05]\n",
            " [9.51506139e-04 3.46018347e-09 6.79969503e-09 4.13497211e-03\n",
            "  9.94894505e-01 1.76130152e-06 1.72255914e-05]\n",
            " [6.89303289e-16 9.99996305e-01 1.17356169e-20 1.85449112e-09\n",
            "  4.04534973e-15 3.59709156e-06 1.24939035e-07]\n",
            " [1.10486745e-07 4.83064018e-02 9.32806818e-11 2.59323657e-04\n",
            "  1.48329045e-05 5.06913923e-02 9.00727928e-01]\n",
            " [3.74781463e-04 5.08813173e-07 8.54491311e-10 9.98914599e-01\n",
            "  1.34937145e-04 2.01750372e-05 5.55036415e-04]\n",
            " [1.11329697e-04 1.14853457e-01 1.35491455e-05 3.07847504e-02\n",
            "  2.16126405e-02 8.26488376e-01 6.13595359e-03]\n",
            " [9.64124382e-01 7.75411081e-07 3.51802409e-02 6.87060703e-04\n",
            "  3.66140148e-06 3.47804917e-06 3.01321876e-07]\n",
            " [6.89303289e-16 9.99996305e-01 1.17356169e-20 1.85449112e-09\n",
            "  4.04534973e-15 3.59709156e-06 1.24939035e-07]\n",
            " [9.97061193e-01 4.65234205e-11 2.92368210e-03 1.35009500e-07\n",
            "  1.50029800e-05 7.49069518e-09 8.62758864e-10]\n",
            " [9.98171806e-01 7.99912504e-14 1.10535766e-03 1.38880822e-07\n",
            "  7.22769182e-04 4.41166215e-09 7.67475061e-09]\n",
            " [1.88758075e-01 9.06321025e-13 8.11221123e-01 6.07768502e-10\n",
            "  2.08060028e-05 5.30460120e-10 6.53739007e-10]\n",
            " [5.80032029e-11 9.96467471e-01 1.23837260e-11 4.14661430e-11\n",
            "  5.37525091e-09 2.53338658e-06 3.52999684e-03]\n",
            " [9.56065238e-01 7.16310622e-10 2.11404695e-04 2.82704394e-04\n",
            "  4.34406027e-02 1.63060463e-08 1.21012775e-07]\n",
            " [1.59336814e-05 3.11742555e-02 1.82532406e-10 4.37650293e-01\n",
            "  7.35186695e-05 4.69632775e-01 6.14532270e-02]\n",
            " [1.87662989e-02 3.87361419e-04 4.90342682e-05 3.49197603e-06\n",
            "  6.01710528e-02 7.14339077e-01 2.06283674e-01]\n",
            " [9.99912620e-01 1.84878825e-20 2.74525628e-12 2.69533590e-10\n",
            "  8.74235993e-05 4.41136749e-15 7.55047047e-09]\n",
            " [8.27433760e-05 8.25758252e-06 2.16252194e-09 6.10550727e-13\n",
            "  3.69638437e-04 6.08480394e-01 3.91059011e-01]\n",
            " [3.18183213e-01 2.87246377e-12 2.23638064e-09 3.45040030e-06\n",
            "  6.81790113e-01 2.27774872e-05 4.99511316e-07]\n",
            " [1.10486745e-07 4.83064018e-02 9.32806818e-11 2.59323657e-04\n",
            "  1.48329045e-05 5.06913923e-02 9.00727928e-01]\n",
            " [3.05488288e-01 4.66898746e-05 6.94343567e-01 1.99411875e-06\n",
            "  4.36536737e-07 1.18769312e-04 3.08288804e-07]\n",
            " [9.66049075e-01 9.70386973e-05 1.57330014e-05 1.10530244e-04\n",
            "  1.71835430e-03 7.77291891e-04 3.12317684e-02]\n",
            " [3.49798165e-06 7.94850349e-01 1.10321610e-08 9.43777617e-03\n",
            "  2.98761415e-06 3.99846982e-07 1.95704982e-01]\n",
            " [6.70284606e-10 7.94766545e-01 3.00395532e-13 3.45696305e-10\n",
            "  2.90854473e-07 1.31285638e-02 1.92104727e-01]\n",
            " [9.63197308e-05 8.49934399e-01 3.85207443e-07 1.45102993e-01\n",
            "  3.91060021e-03 1.50252919e-04 8.05022137e-04]\n",
            " [1.43868903e-07 6.90028304e-03 5.29802374e-12 3.24684056e-03\n",
            "  1.32228865e-03 9.28104341e-01 6.04261123e-02]\n",
            " [9.31335334e-03 2.88026481e-15 1.03183441e-10 4.14249191e-10\n",
            "  9.90676522e-01 3.26640247e-07 9.79360175e-06]\n",
            " [3.36284586e-07 7.79153059e-19 1.18896651e-14 4.93400329e-12\n",
            "  9.99999642e-01 5.02438904e-14 1.13922699e-11]\n",
            " [1.86330915e-20 2.79049926e-11 2.61047478e-26 1.69551881e-22\n",
            "  7.19935414e-23 9.24461415e-15 1.00000000e+00]\n",
            " [7.87800036e-06 6.63202657e-15 2.08450993e-10 1.02544133e-08\n",
            "  9.99992132e-01 8.81252189e-12 8.08832778e-14]\n",
            " [1.39321819e-01 4.65384037e-05 1.94849126e-04 6.79533940e-08\n",
            "  4.41378634e-03 1.63419390e-05 8.56006622e-01]\n",
            " [2.51298483e-12 9.05383204e-05 4.55772356e-12 6.70986704e-14\n",
            "  2.89279600e-09 2.07377624e-07 9.99909282e-01]]\n"
          ],
          "name": "stdout"
        }
      ]
    },
    {
      "cell_type": "code",
      "metadata": {
        "colab": {
          "base_uri": "https://localhost:8080/"
        },
        "id": "xpxrGcSjlwPN",
        "outputId": "2bed14b8-dd18-4694-d0d2-5461984b3d7d"
      },
      "source": [
        "import numpy as np\n",
        "y_pred = np.argmax(y_pred, axis=1)\n",
        "\n",
        "print(y_pred)"
      ],
      "execution_count": null,
      "outputs": [
        {
          "output_type": "stream",
          "text": [
            "[4 0 0 2 0 4 5 2 6 0 1 2 4 1 6 3 5 0 1 0 0 2 1 0 5 5 0 5 4 6 2 0 1 1 1 5 4\n",
            " 4 6 4 6 6]\n"
          ],
          "name": "stdout"
        }
      ]
    },
    {
      "cell_type": "code",
      "metadata": {
        "colab": {
          "base_uri": "https://localhost:8080/"
        },
        "id": "PAFdXyvamExk",
        "outputId": "13bae68d-48cc-4517-8009-b9e2ffa55a21"
      },
      "source": [
        "from tensorflow.keras.preprocessing import image\n",
        "\n",
        "\n",
        "img=image.load_img('/content/drive/MyDrive/Colab Notebooks/currencydetection/dataset/Test/1Hundrednote/1.jpg',\n",
        "                   target_size=(224,224))\n",
        "\n",
        "\n",
        "test_image=image.img_to_array(img)\n",
        "test_image=np.expand_dims(test_image, axis = 0)\n",
        "\n",
        "result = Classifier.predict(test_image)\n",
        "print(result)\n",
        "\n",
        "a=np.argmax(result, axis=1)\n",
        "\n",
        "print(a==5)\n",
        "\n",
        "print(a==0)"
      ],
      "execution_count": null,
      "outputs": [
        {
          "output_type": "stream",
          "text": [
            "[[1. 0. 0. 0. 0. 0. 0.]]\n",
            "[False]\n",
            "[ True]\n"
          ],
          "name": "stdout"
        }
      ]
    },
    {
      "cell_type": "code",
      "metadata": {
        "id": "QuXedb70kfdD"
      },
      "source": [
        "# save it as a h5 file\n",
        "\n",
        "from tensorflow.keras.models import load_model\n",
        "\n",
        "Classifier.save('/content/drive/MyDrive/Projects/Currency Detection web app-ML/model_classifier.h5')\n",
        "\n"
      ],
      "execution_count": null,
      "outputs": []
    },
    {
      "cell_type": "code",
      "metadata": {
        "id": "Ec00hqZqbfTh"
      },
      "source": [
        "# load h5 file\n",
        "\n",
        "'''\n",
        "\n",
        "from tensorflow.keras.models import load_model\n",
        "\n",
        "model=load_model('model_Classifier.h5')\n",
        "\n",
        "'''"
      ],
      "execution_count": null,
      "outputs": []
    }
  ]
}